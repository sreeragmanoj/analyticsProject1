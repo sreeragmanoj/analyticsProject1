{
 "cells": [
  {
   "cell_type": "code",
   "execution_count": 88,
   "id": "54edacc3",
   "metadata": {},
   "outputs": [
    {
     "data": {
      "text/plain": [
       "'http://localhost:8002/api/events/'"
      ]
     },
     "execution_count": 88,
     "metadata": {},
     "output_type": "execute_result"
    }
   ],
   "source": [
    "import requests\n",
    "path = \"/api/events/\"\n",
    "base_url = \"http://localhost:8002\"\n",
    "endpoint = f\"{base_url}{path}\"\n",
    "endpoint\n"
   ]
  },
  {
   "cell_type": "code",
   "execution_count": 95,
   "id": "f0c421e7",
   "metadata": {},
   "outputs": [
    {
     "name": "stdout",
     "output_type": "stream",
     "text": [
      "{'date': 'Tue, 01 Jul 2025 08:45:22 GMT', 'server': 'uvicorn', 'content-length': '24', 'content-type': 'application/json'}\n",
      "True\n",
      "{'event_id': 1, 'page': ''} <class 'dict'> None\n"
     ]
    }
   ],
   "source": [
    "create_path = \"/api/events/\"\n",
    "base_url = \"http://localhost:8002\"\n",
    "create_endpoint = f\"{base_url}{create_path}\"\n",
    "headers = {\n",
    "    \"Content-Type\": \"application/json\"\n",
    "}\n",
    "response = requests.post(endpoint, json= {\"page\": \"/test+\"}, headers=headers)\n",
    "print(response.headers)\n",
    "print(response.ok)\n",
    "if response.ok:\n",
    "    data = response.json()\n",
    "    print(data, type(data), data.get('items'))\n",
    "else:\n",
    "    print(response.text)"
   ]
  },
  {
   "cell_type": "code",
   "execution_count": 97,
   "id": "ac5132ab",
   "metadata": {},
   "outputs": [
    {
     "name": "stdout",
     "output_type": "stream",
     "text": [
      "{'date': 'Tue, 01 Jul 2025 08:47:52 GMT', 'server': 'uvicorn', 'content-length': '53', 'content-type': 'application/json'}\n",
      "True\n",
      "{'event_id': 12, 'page': '', 'description': 'hello world'} <class 'dict'> None\n"
     ]
    }
   ],
   "source": [
    "put_path = \"/api/events/12\"\n",
    "put_endpoint = f\"{base_url}{put_path}\"\n",
    "headers = {\n",
    "    \"Content-Type\": \"application/json\"\n",
    "}\n",
    "response = requests.put(put_endpoint, json={'description': 'hello world'}, headers=headers)\n",
    "print(response.headers)\n",
    "print(response.ok)\n",
    "if response.ok:\n",
    "    data = response.json()\n",
    "    print(data, type(data), data.get('items'))\n",
    "else:\n",
    "    print(response.text)"
   ]
  }
 ],
 "metadata": {
  "kernelspec": {
   "display_name": "venv",
   "language": "python",
   "name": "python3"
  },
  "language_info": {
   "codemirror_mode": {
    "name": "ipython",
    "version": 3
   },
   "file_extension": ".py",
   "mimetype": "text/x-python",
   "name": "python",
   "nbconvert_exporter": "python",
   "pygments_lexer": "ipython3",
   "version": "3.13.3"
  }
 },
 "nbformat": 4,
 "nbformat_minor": 5
}
